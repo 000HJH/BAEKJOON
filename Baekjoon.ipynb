{
 "cells": [
  {
   "cell_type": "code",
   "execution_count": 98,
   "metadata": {},
   "outputs": [
    {
     "name": "stdout",
     "output_type": "stream",
     "text": [
      "[3, 5]\n",
      "[5, 5]\n",
      "[5, 11]\n"
     ]
    }
   ],
   "source": [
    "#백준 9020 -- time over..\n",
    "\n",
    "for _ in range(int(input())):\n",
    "    n= int(input())\n",
    "\n",
    "    nprime_set= set([])\n",
    "    prime_set = set([])\n",
    "    \n",
    "    for i in range(2,n+1): #i = 14\n",
    "        for j in range(2,i):\n",
    "            while True:\n",
    "                if i%j ==0:\n",
    "                    nprime_set.add(i)\n",
    "\n",
    "                if i%j != 0:\n",
    "                    prime_set.add(i)   \n",
    "                break\n",
    "\n",
    "    l1 = list(prime_set)\n",
    "    l2 = list(nprime_set)\n",
    "    prime_lst = list(filter(lambda x: x not in l2, l1))\n",
    "\n",
    "    prime_lst.append(2)  #n이하 소수 리스트  \n",
    "\n",
    "    lst = []\n",
    "    for att1 in prime_lst:\n",
    "        for att2 in prime_lst:\n",
    "            if att1+att2 == n:\n",
    "                lst.append([att1,att2])\n",
    "    if len(lst)%2 ==0:\n",
    "        idx = len(lst)//2 -1\n",
    "    else:\n",
    "        idx = len(lst)//2\n",
    "    print(lst[idx])\n",
    "\n"
   ]
  },
  {
   "cell_type": "code",
   "execution_count": 106,
   "metadata": {},
   "outputs": [
    {
     "name": "stdout",
     "output_type": "stream",
     "text": [
      "AAABBBCCC..ddss"
     ]
    }
   ],
   "source": [
    "#2675\n",
    "for _ in range(int(input())): #단어 수\n",
    "    n, char = input().split()\n",
    "    n = int(n)\n",
    "    for i in range(len(char)):\n",
    "        print(char[i]*n, end=\"\")\n",
    "    print(\"\")\n"
   ]
  },
  {
   "cell_type": "code",
   "execution_count": 114,
   "metadata": {},
   "outputs": [
    {
     "data": {
      "text/plain": [
       "497"
      ]
     },
     "execution_count": 114,
     "metadata": {},
     "output_type": "execute_result"
    }
   ],
   "source": [
    "# 2798\n",
    "n, max = map(int, input().split())\n",
    "lst = list(map(int, input().split()))\n",
    "sum_lst = []\n",
    "for i1 in range(n): #0~4\n",
    "    for i2 in range(i1+1, n): #1~4\n",
    "        for i3 in range(i2+1, n): #2~4\n",
    "            sum = lst[i1]+lst[i2]+lst[i3]          \n",
    "            sum_lst.append(sum)\n",
    "new_sum_lst = list(filter(lambda x: x <= max, sum_lst)) \n",
    "\n",
    "max_num=0  #최대값찾기\n",
    "for i in new_sum_lst:\n",
    "    if max_num>=i:\n",
    "        continue\n",
    "    else:\n",
    "        max_num=i\n",
    "max_num\n"
   ]
  }
 ],
 "metadata": {
  "kernelspec": {
   "display_name": "Python 3",
   "language": "python",
   "name": "python3"
  },
  "language_info": {
   "codemirror_mode": {
    "name": "ipython",
    "version": 3
   },
   "file_extension": ".py",
   "mimetype": "text/x-python",
   "name": "python",
   "nbconvert_exporter": "python",
   "pygments_lexer": "ipython3",
   "version": "3.9.16"
  },
  "orig_nbformat": 4
 },
 "nbformat": 4,
 "nbformat_minor": 2
}
